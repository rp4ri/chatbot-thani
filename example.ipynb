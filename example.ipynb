{
 "cells": [
  {
   "cell_type": "code",
   "execution_count": 2,
   "metadata": {},
   "outputs": [
    {
     "data": {
      "text/plain": [
       "True"
      ]
     },
     "execution_count": 2,
     "metadata": {},
     "output_type": "execute_result"
    }
   ],
   "source": [
    "from dotenv import load_dotenv\n",
    "load_dotenv()"
   ]
  },
  {
   "cell_type": "code",
   "execution_count": 3,
   "metadata": {},
   "outputs": [
    {
     "name": "stdout",
     "output_type": "stream",
     "text": [
      "localhost:5432/mydb\n"
     ]
    }
   ],
   "source": [
    "import os\n",
    "\n",
    "database_url = os.getenv(\"DATABASE_URL\")\n",
    "print(database_url)"
   ]
  },
  {
   "cell_type": "code",
   "execution_count": 4,
   "metadata": {},
   "outputs": [
    {
     "name": "stderr",
     "output_type": "stream",
     "text": [
      "c:\\Users\\rodri\\piton\\chatbot-thani\\chatbot-thani\\lib\\site-packages\\tqdm\\auto.py:21: TqdmWarning: IProgress not found. Please update jupyter and ipywidgets. See https://ipywidgets.readthedocs.io/en/stable/user_install.html\n",
      "  from .autonotebook import tqdm as notebook_tqdm\n"
     ]
    }
   ],
   "source": [
    "import json\n",
    "import nltk\n",
    "import numpy as np\n",
    "import random\n",
    "import pickle\n",
    "import torch\n",
    "import torch.nn as nn\n",
    "from sklearn.feature_extraction.text import TfidfVectorizer\n",
    "from sklearn.metrics.pairwise import cosine_similarity\n",
    "from nltk.stem import SnowballStemmer\n",
    "\n",
    "# Cargar datos de entrenamiento\n",
    "with open('data/intents.json', encoding='iso-8859-1') as file:\n",
    "    data = json.load(file)\n",
    "\n",
    "# Obtener todas las palabras y etiquetas\n",
    "all_words = []\n",
    "tags = []\n",
    "patterns = []\n",
    "\n",
    "for intent in data['intents']:\n",
    "    tag = intent['tag']\n",
    "    tags.append(tag)\n",
    "    \n",
    "    for pattern in intent['patterns']:\n",
    "        # Convertir a minúsculas y tokenizar\n",
    "        words = nltk.word_tokenize(pattern.lower())\n",
    "        all_words.extend(words)\n",
    "        patterns.append((words, tag))\n",
    "\n",
    "# Stemming y eliminación de duplicados\n",
    "stemmer = SnowballStemmer('spanish')\n",
    "all_words = [stemmer.stem(word) for word in all_words]\n",
    "all_words = sorted(list(set(all_words)))\n",
    "\n",
    "tags = sorted(list(set(tags)))\n",
    "\n",
    "# Preparar datos de entrenamiento\n",
    "training = []\n",
    "output = np.zeros((len(patterns), len(tags)))\n",
    "\n",
    "for i, pattern in enumerate(patterns):\n",
    "    bag = []\n",
    "    pattern_words = pattern[0]\n",
    "    pattern_words = [stemmer.stem(word.lower()) for word in pattern_words]\n",
    "    \n",
    "    for word in all_words:\n",
    "        if word in pattern_words:\n",
    "            bag.append(1)\n",
    "        else:\n",
    "            bag.append(0)\n",
    "    \n",
    "    output[i][tags.index(pattern[1])] = 1\n",
    "    \n",
    "    training.append(bag)\n",
    "\n",
    "training = np.array(training)\n",
    "output = torch.from_numpy(output).float()\n",
    "\n",
    "# Definir modelo\n",
    "class ChatbotModel(nn.Module):\n",
    "    def __init__(self, input_size, hidden_size, output_size, dropout_rate):\n",
    "        super(ChatbotModel, self).__init__()\n",
    "        self.fc1 = nn.Linear(input_size, hidden_size)\n",
    "        self.fc2 = nn.Linear(hidden_size, output_size)\n",
    "        self.dropout = nn.Dropout(dropout_rate)\n",
    "    \n",
    "    def forward(self, x):\n",
    "        x = self.fc1(x)\n",
    "        x = nn.functional.relu(x)\n",
    "        x = self.dropout(x)\n",
    "        x = self.fc2(x)\n",
    "        x = nn.functional.softmax(x, dim=1)\n",
    "        return x\n",
    "\n",
    "model = ChatbotModel(len(training[0]), 128, len(output[0]), 0.5)\n",
    "\n",
    "# Entrenar modelo\n",
    "criterion = nn.BCELoss()\n",
    "optimizer = torch.optim.Adam(model.parameters(), lr=0.1)\n",
    "\n",
    "for epoch in range(100):\n",
    "    inputs = torch.from_numpy(training).float()\n",
    "    outputs = model(inputs)\n",
    "    \n",
    "    loss = criterion(outputs, output)\n",
    "    optimizer.zero_grad()\n",
    "    loss.backward()\n",
    "    optimizer.step()\n",
    "\n",
    "# Guardar modelo en un archivo pkl\n",
    "with open('models/chatbot_model.pkl', 'wb') as file:\n",
    "    pickle.dump(model, file)"
   ]
  },
  {
   "cell_type": "code",
   "execution_count": 5,
   "metadata": {},
   "outputs": [],
   "source": [
    "import pickle\n",
    "import numpy as np\n",
    "from nltk.stem import SnowballStemmer\n",
    "\n",
    "# Load the model from the file\n",
    "with open('models/chatbot_model.pkl', 'rb') as file:\n",
    "    model = pickle.load(file)\n",
    "\n",
    "# Load the words and tags from the data file\n",
    "with open('data/intents.json', encoding='iso-8859-1') as file:\n",
    "    data = json.load(file)\n",
    "\n",
    "stemmer = SnowballStemmer('spanish')\n",
    "words = []\n",
    "tags = []\n",
    "patterns = []\n",
    "\n",
    "for intent in data['intents']:\n",
    "    tag = intent['tag']\n",
    "    tags.append(tag)\n",
    "    \n",
    "    for pattern in intent['patterns']:\n",
    "        # Tokenize and stem the words in the pattern\n",
    "        tokens = nltk.word_tokenize(pattern.lower())\n",
    "        stemmed_tokens = [stemmer.stem(token) for token in tokens]\n",
    "        words.extend(stemmed_tokens)\n",
    "        patterns.append((stemmed_tokens, tag))\n",
    "\n",
    "words = sorted(list(set(words)))\n",
    "tags = sorted(list(set(tags)))"
   ]
  },
  {
   "cell_type": "code",
   "execution_count": 6,
   "metadata": {},
   "outputs": [],
   "source": [
    "def preprocess(input_text, words):\n",
    "    # Tokenize the input text\n",
    "    tokens = nltk.word_tokenize(input_text.lower())\n",
    "\n",
    "    # Stem the tokens\n",
    "    stemmer = SnowballStemmer('spanish')\n",
    "    stemmed_tokens = [stemmer.stem(token) for token in tokens]\n",
    "\n",
    "    # Create a bag of words vector\n",
    "    input_bag = torch.zeros(len(words))\n",
    "    for word in stemmed_tokens:\n",
    "        if word in words:\n",
    "            input_bag[words.index(word)] = 1\n",
    "\n",
    "    return input_bag"
   ]
  },
  {
   "cell_type": "code",
   "execution_count": 7,
   "metadata": {},
   "outputs": [],
   "source": [
    "def generate_response(input_text):\n",
    "    # Preprocess the input text\n",
    "    input_bag = preprocess(input_text, words)\n",
    "    #input_bag = preprocess_input(input_text)\n",
    "    #print(input_bag)\n",
    "\n",
    "    # Convert input to a PyTorch tensor\n",
    "    #input_tensor = torch.tensor(input_bag).float().unsqueeze(0)\n",
    "    #input_tensor = torch.tensor(input_bag, dtype=torch.float).clone().detach().unsqueeze(0)\n",
    "    input_tensor = input_bag.clone().detach().unsqueeze(0)\n",
    "\n",
    "    # Use the model to predict the output\n",
    "    output = model(input_tensor)\n",
    "\n",
    "    # Convert the output to a numpy array\n",
    "    output_np = output.detach().numpy()\n",
    "\n",
    "    # Find the tag with the highest probability\n",
    "    tag_index = np.argmax(output_np)\n",
    "\n",
    "    if output_np[0][tag_index] < 0.5:\n",
    "        return \"Lo siento, no te he entendido. ¿Podrías reformular la pregunta?\"\n",
    "\n",
    "    tag = tags[tag_index]\n",
    "\n",
    "    # Choose a random response from the tag's list of responses\n",
    "    responses = []\n",
    "    for intent in data['intents']:\n",
    "        if intent['tag'] == tag:\n",
    "            responses = intent['responses']\n",
    "\n",
    "    return random.choice(responses)"
   ]
  },
  {
   "cell_type": "code",
   "execution_count": 8,
   "metadata": {},
   "outputs": [
    {
     "data": {
      "text/plain": [
       "'Hola, ¿cómo puedo ayudarte hoy?'"
      ]
     },
     "execution_count": 8,
     "metadata": {},
     "output_type": "execute_result"
    }
   ],
   "source": [
    "generate_response('Hola')"
   ]
  },
  {
   "cell_type": "code",
   "execution_count": 9,
   "metadata": {},
   "outputs": [
    {
     "data": {
      "text/plain": [
       "'Adiós'"
      ]
     },
     "execution_count": 9,
     "metadata": {},
     "output_type": "execute_result"
    }
   ],
   "source": [
    "generate_response('Adiós')"
   ]
  },
  {
   "cell_type": "code",
   "execution_count": 10,
   "metadata": {},
   "outputs": [
    {
     "data": {
      "text/plain": [
       "'Entiendo que puede ser difícil lidiar con problemas personales. ¿Quieres hablar de ello?'"
      ]
     },
     "execution_count": 10,
     "metadata": {},
     "output_type": "execute_result"
    }
   ],
   "source": [
    "generate_response('me siento triste')"
   ]
  },
  {
   "cell_type": "code",
   "execution_count": 11,
   "metadata": {},
   "outputs": [
    {
     "data": {
      "text/plain": [
       "'Parece que estás teniendo problemas en tu carrera. ¿Te gustaría hablar de ello?'"
      ]
     },
     "execution_count": 11,
     "metadata": {},
     "output_type": "execute_result"
    }
   ],
   "source": [
    "generate_response('tuve problemas en el trabajo')"
   ]
  },
  {
   "cell_type": "code",
   "execution_count": 12,
   "metadata": {},
   "outputs": [
    {
     "data": {
      "text/plain": [
       "'Mi consejo es que escuches tu corazón y hagas lo que sientas que es correcto para ti. ¿Hay algo específico que te preocupa?'"
      ]
     },
     "execution_count": 12,
     "metadata": {},
     "output_type": "execute_result"
    }
   ],
   "source": [
    "generate_response('me voy a mater')"
   ]
  },
  {
   "cell_type": "code",
   "execution_count": 13,
   "metadata": {},
   "outputs": [
    {
     "data": {
      "text/plain": [
       "'Lo siento mucho por lo que estás pasando. ¿Quieres hablar de tus problemas en el trabajo?'"
      ]
     },
     "execution_count": 13,
     "metadata": {},
     "output_type": "execute_result"
    }
   ],
   "source": [
    "generate_response('si pierde blooming pierde mi familia')"
   ]
  },
  {
   "cell_type": "code",
   "execution_count": null,
   "metadata": {},
   "outputs": [],
   "source": [
    "generate_response('josue ')"
   ]
  }
 ],
 "metadata": {
  "kernelspec": {
   "display_name": "chatbot-thani",
   "language": "python",
   "name": "python3"
  },
  "language_info": {
   "codemirror_mode": {
    "name": "ipython",
    "version": 3
   },
   "file_extension": ".py",
   "mimetype": "text/x-python",
   "name": "python",
   "nbconvert_exporter": "python",
   "pygments_lexer": "ipython3",
   "version": "3.10.9"
  },
  "orig_nbformat": 4
 },
 "nbformat": 4,
 "nbformat_minor": 2
}
